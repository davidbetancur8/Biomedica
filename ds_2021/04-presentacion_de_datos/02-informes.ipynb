{
  "nbformat": 4,
  "nbformat_minor": 0,
  "metadata": {
    "colab": {
      "name": "Informes.ipynb",
      "provenance": [],
      "collapsed_sections": []
    },
    "kernelspec": {
      "name": "python3",
      "display_name": "Python 3"
    },
    "language_info": {
      "name": "python"
    }
  },
  "cells": [
    {
      "cell_type": "markdown",
      "metadata": {
        "id": "SCrDG2pEH0Wi"
      },
      "source": [
        "# DASH\n",
        "\n",
        "https://dash.plotly.com"
      ]
    },
    {
      "cell_type": "code",
      "metadata": {
        "id": "s4ibS0WDUewA"
      },
      "source": [
        "! pip install dash   \n",
        "! pip install dash-html-components                                         \n",
        "! pip install dash-core-components                                     \n",
        "! pip install plotly\n",
        "! pip install jupyter-dash"
      ],
      "execution_count": null,
      "outputs": []
    },
    {
      "cell_type": "code",
      "metadata": {
        "id": "Sz4Ewg5FUWdc"
      },
      "source": [
        "import dash\n",
        "import dash_html_components as html\n",
        "import dash_core_components as dcc\n",
        "import plotly.graph_objects as go\n",
        "import plotly.express as px\n",
        "from jupyter_dash import JupyterDash\n",
        "from dash.dependencies import Input, Output"
      ],
      "execution_count": null,
      "outputs": []
    },
    {
      "cell_type": "code",
      "metadata": {
        "colab": {
          "base_uri": "https://localhost:8080/",
          "height": 419
        },
        "id": "EpIiZa1wYbTG",
        "outputId": "a2410613-74fa-43ec-90b4-f46fa784590c"
      },
      "source": [
        "df = px.data.stocks() #reading stock price dataset \n",
        "df"
      ],
      "execution_count": null,
      "outputs": [
        {
          "output_type": "execute_result",
          "data": {
            "text/html": [
              "<div>\n",
              "<style scoped>\n",
              "    .dataframe tbody tr th:only-of-type {\n",
              "        vertical-align: middle;\n",
              "    }\n",
              "\n",
              "    .dataframe tbody tr th {\n",
              "        vertical-align: top;\n",
              "    }\n",
              "\n",
              "    .dataframe thead th {\n",
              "        text-align: right;\n",
              "    }\n",
              "</style>\n",
              "<table border=\"1\" class=\"dataframe\">\n",
              "  <thead>\n",
              "    <tr style=\"text-align: right;\">\n",
              "      <th></th>\n",
              "      <th>date</th>\n",
              "      <th>GOOG</th>\n",
              "      <th>AAPL</th>\n",
              "      <th>AMZN</th>\n",
              "      <th>FB</th>\n",
              "      <th>NFLX</th>\n",
              "      <th>MSFT</th>\n",
              "    </tr>\n",
              "  </thead>\n",
              "  <tbody>\n",
              "    <tr>\n",
              "      <th>0</th>\n",
              "      <td>2018-01-01</td>\n",
              "      <td>1.000000</td>\n",
              "      <td>1.000000</td>\n",
              "      <td>1.000000</td>\n",
              "      <td>1.000000</td>\n",
              "      <td>1.000000</td>\n",
              "      <td>1.000000</td>\n",
              "    </tr>\n",
              "    <tr>\n",
              "      <th>1</th>\n",
              "      <td>2018-01-08</td>\n",
              "      <td>1.018172</td>\n",
              "      <td>1.011943</td>\n",
              "      <td>1.061881</td>\n",
              "      <td>0.959968</td>\n",
              "      <td>1.053526</td>\n",
              "      <td>1.015988</td>\n",
              "    </tr>\n",
              "    <tr>\n",
              "      <th>2</th>\n",
              "      <td>2018-01-15</td>\n",
              "      <td>1.032008</td>\n",
              "      <td>1.019771</td>\n",
              "      <td>1.053240</td>\n",
              "      <td>0.970243</td>\n",
              "      <td>1.049860</td>\n",
              "      <td>1.020524</td>\n",
              "    </tr>\n",
              "    <tr>\n",
              "      <th>3</th>\n",
              "      <td>2018-01-22</td>\n",
              "      <td>1.066783</td>\n",
              "      <td>0.980057</td>\n",
              "      <td>1.140676</td>\n",
              "      <td>1.016858</td>\n",
              "      <td>1.307681</td>\n",
              "      <td>1.066561</td>\n",
              "    </tr>\n",
              "    <tr>\n",
              "      <th>4</th>\n",
              "      <td>2018-01-29</td>\n",
              "      <td>1.008773</td>\n",
              "      <td>0.917143</td>\n",
              "      <td>1.163374</td>\n",
              "      <td>1.018357</td>\n",
              "      <td>1.273537</td>\n",
              "      <td>1.040708</td>\n",
              "    </tr>\n",
              "    <tr>\n",
              "      <th>...</th>\n",
              "      <td>...</td>\n",
              "      <td>...</td>\n",
              "      <td>...</td>\n",
              "      <td>...</td>\n",
              "      <td>...</td>\n",
              "      <td>...</td>\n",
              "      <td>...</td>\n",
              "    </tr>\n",
              "    <tr>\n",
              "      <th>100</th>\n",
              "      <td>2019-12-02</td>\n",
              "      <td>1.216280</td>\n",
              "      <td>1.546914</td>\n",
              "      <td>1.425061</td>\n",
              "      <td>1.075997</td>\n",
              "      <td>1.463641</td>\n",
              "      <td>1.720717</td>\n",
              "    </tr>\n",
              "    <tr>\n",
              "      <th>101</th>\n",
              "      <td>2019-12-09</td>\n",
              "      <td>1.222821</td>\n",
              "      <td>1.572286</td>\n",
              "      <td>1.432660</td>\n",
              "      <td>1.038855</td>\n",
              "      <td>1.421496</td>\n",
              "      <td>1.752239</td>\n",
              "    </tr>\n",
              "    <tr>\n",
              "      <th>102</th>\n",
              "      <td>2019-12-16</td>\n",
              "      <td>1.224418</td>\n",
              "      <td>1.596800</td>\n",
              "      <td>1.453455</td>\n",
              "      <td>1.104094</td>\n",
              "      <td>1.604362</td>\n",
              "      <td>1.784896</td>\n",
              "    </tr>\n",
              "    <tr>\n",
              "      <th>103</th>\n",
              "      <td>2019-12-23</td>\n",
              "      <td>1.226504</td>\n",
              "      <td>1.656000</td>\n",
              "      <td>1.521226</td>\n",
              "      <td>1.113728</td>\n",
              "      <td>1.567170</td>\n",
              "      <td>1.802472</td>\n",
              "    </tr>\n",
              "    <tr>\n",
              "      <th>104</th>\n",
              "      <td>2019-12-30</td>\n",
              "      <td>1.213014</td>\n",
              "      <td>1.678000</td>\n",
              "      <td>1.503360</td>\n",
              "      <td>1.098475</td>\n",
              "      <td>1.540883</td>\n",
              "      <td>1.788185</td>\n",
              "    </tr>\n",
              "  </tbody>\n",
              "</table>\n",
              "<p>105 rows × 7 columns</p>\n",
              "</div>"
            ],
            "text/plain": [
              "           date      GOOG      AAPL      AMZN        FB      NFLX      MSFT\n",
              "0    2018-01-01  1.000000  1.000000  1.000000  1.000000  1.000000  1.000000\n",
              "1    2018-01-08  1.018172  1.011943  1.061881  0.959968  1.053526  1.015988\n",
              "2    2018-01-15  1.032008  1.019771  1.053240  0.970243  1.049860  1.020524\n",
              "3    2018-01-22  1.066783  0.980057  1.140676  1.016858  1.307681  1.066561\n",
              "4    2018-01-29  1.008773  0.917143  1.163374  1.018357  1.273537  1.040708\n",
              "..          ...       ...       ...       ...       ...       ...       ...\n",
              "100  2019-12-02  1.216280  1.546914  1.425061  1.075997  1.463641  1.720717\n",
              "101  2019-12-09  1.222821  1.572286  1.432660  1.038855  1.421496  1.752239\n",
              "102  2019-12-16  1.224418  1.596800  1.453455  1.104094  1.604362  1.784896\n",
              "103  2019-12-23  1.226504  1.656000  1.521226  1.113728  1.567170  1.802472\n",
              "104  2019-12-30  1.213014  1.678000  1.503360  1.098475  1.540883  1.788185\n",
              "\n",
              "[105 rows x 7 columns]"
            ]
          },
          "metadata": {},
          "execution_count": 11
        }
      ]
    },
    {
      "cell_type": "code",
      "metadata": {
        "id": "qt1pjiGOUbhA"
      },
      "source": [
        "app = JupyterDash(__name__)   #initialising dash app\n",
        "\n",
        "\n",
        "def stock_prices():\n",
        "    # Function for creating line chart showing Google stock prices over time \n",
        "    fig = go.Figure([go.Scatter(x = df['date'], y = df['GOOG'],\\\n",
        "                     line = dict(color = 'firebrick', width = 4), name = 'Google')\n",
        "                     ])\n",
        "    fig.update_layout(title = 'Prices over time',\n",
        "                      xaxis_title = 'Dates',\n",
        "                      yaxis_title = 'Prices'\n",
        "                      )\n",
        "    return fig  \n",
        "\n",
        " \n",
        "app.layout = html.Div(id = 'parent', children = [\n",
        "    html.H1(id = 'H1', children = 'Styling using html components', style = {'textAlign':'center',\\\n",
        "                                            'marginTop':40,'marginBottom':40}),\n",
        "\n",
        "        \n",
        "        dcc.Graph(id = 'line_plot', figure = stock_prices())    \n",
        "    ]\n",
        "                     )"
      ],
      "execution_count": null,
      "outputs": []
    },
    {
      "cell_type": "code",
      "metadata": {
        "colab": {
          "base_uri": "https://localhost:8080/",
          "height": 671
        },
        "id": "WwMcyxLCUwna",
        "outputId": "8d6ce534-a1b2-4b87-b3a4-e3d571c22162"
      },
      "source": [
        "app.run_server(mode=\"inline\")"
      ],
      "execution_count": null,
      "outputs": [
        {
          "output_type": "display_data",
          "data": {
            "application/javascript": [
              "(async (port, path, width, height, cache, element) => {\n",
              "    if (!google.colab.kernel.accessAllowed && !cache) {\n",
              "      return;\n",
              "    }\n",
              "    element.appendChild(document.createTextNode(''));\n",
              "    const url = await google.colab.kernel.proxyPort(port, {cache});\n",
              "    const iframe = document.createElement('iframe');\n",
              "    iframe.src = new URL(path, url).toString();\n",
              "    iframe.height = height;\n",
              "    iframe.width = width;\n",
              "    iframe.style.border = 0;\n",
              "    element.appendChild(iframe);\n",
              "  })(8050, \"/\", \"100%\", 650, false, window.element)"
            ],
            "text/plain": [
              "<IPython.core.display.Javascript object>"
            ]
          },
          "metadata": {}
        }
      ]
    },
    {
      "cell_type": "code",
      "metadata": {
        "id": "AatLqNqoXCvl"
      },
      "source": [
        "app = JupyterDash(__name__) \n",
        "\n",
        "df = px.data.stocks()\n",
        "\n",
        "\n",
        "app.layout = html.Div(id = 'parent', children = [\n",
        "    html.H1(id = 'H1', children = 'Stocks :)', style = {'textAlign':'center',\\\n",
        "                                            'marginTop':40,'marginBottom':40}),\n",
        "\n",
        "        dcc.Dropdown( id = 'dropdown',\n",
        "        options = [\n",
        "            {'label':'Google', 'value':'GOOG' },\n",
        "            {'label': 'Apple', 'value':'AAPL'},\n",
        "            {'label': 'Amazon', 'value':'AMZN'},\n",
        "            ],\n",
        "        value = 'GOOG'),\n",
        "        dcc.Graph(id = 'bar_plot')\n",
        "    ])\n",
        "    \n",
        "    \n",
        "@app.callback(Output(component_id='bar_plot', component_property= 'figure'),\n",
        "              [Input(component_id='dropdown', component_property= 'value')])\n",
        "def graph_update(dropdown_value):\n",
        "    print(dropdown_value)\n",
        "    fig = go.Figure([go.Scatter(x = df['date'], y = df['{}'.format(dropdown_value)],\\\n",
        "                     line = dict(color = 'firebrick', width = 4))\n",
        "                     ])\n",
        "    \n",
        "    fig.update_layout(title = 'Stock prices over time',\n",
        "                      xaxis_title = 'Dates',\n",
        "                      yaxis_title = 'Prices'\n",
        "                      )\n",
        "    return fig  "
      ],
      "execution_count": null,
      "outputs": []
    },
    {
      "cell_type": "code",
      "metadata": {
        "colab": {
          "base_uri": "https://localhost:8080/",
          "height": 671
        },
        "id": "wU8MpOawXNYC",
        "outputId": "a9ac6e9b-5bd1-4b47-e6ed-ac0601a4774e"
      },
      "source": [
        "app.run_server(mode=\"inline\")"
      ],
      "execution_count": null,
      "outputs": [
        {
          "output_type": "display_data",
          "data": {
            "application/javascript": [
              "(async (port, path, width, height, cache, element) => {\n",
              "    if (!google.colab.kernel.accessAllowed && !cache) {\n",
              "      return;\n",
              "    }\n",
              "    element.appendChild(document.createTextNode(''));\n",
              "    const url = await google.colab.kernel.proxyPort(port, {cache});\n",
              "    const iframe = document.createElement('iframe');\n",
              "    iframe.src = new URL(path, url).toString();\n",
              "    iframe.height = height;\n",
              "    iframe.width = width;\n",
              "    iframe.style.border = 0;\n",
              "    element.appendChild(iframe);\n",
              "  })(8050, \"/\", \"100%\", 650, false, window.element)"
            ],
            "text/plain": [
              "<IPython.core.display.Javascript object>"
            ]
          },
          "metadata": {}
        }
      ]
    },
    {
      "cell_type": "code",
      "metadata": {
        "id": "Qm9oPVIUXQie"
      },
      "source": [
        ""
      ],
      "execution_count": null,
      "outputs": []
    }
  ]
}
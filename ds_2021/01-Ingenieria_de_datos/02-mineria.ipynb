{
 "cells": [
  {
   "cell_type": "code",
   "execution_count": 12,
   "metadata": {},
   "outputs": [],
   "source": [
    "import pandas as pd\n",
    "import numpy as np"
   ]
  },
  {
   "cell_type": "code",
   "execution_count": 15,
   "metadata": {},
   "outputs": [],
   "source": [
    "df = pd.read_csv(\"datos/drug_chart.csv\")"
   ]
  },
  {
   "cell_type": "code",
   "execution_count": 16,
   "metadata": {},
   "outputs": [
    {
     "data": {
      "text/html": [
       "<div>\n",
       "<style scoped>\n",
       "    .dataframe tbody tr th:only-of-type {\n",
       "        vertical-align: middle;\n",
       "    }\n",
       "\n",
       "    .dataframe tbody tr th {\n",
       "        vertical-align: top;\n",
       "    }\n",
       "\n",
       "    .dataframe thead th {\n",
       "        text-align: right;\n",
       "    }\n",
       "</style>\n",
       "<table border=\"1\" class=\"dataframe\">\n",
       "  <thead>\n",
       "    <tr style=\"text-align: right;\">\n",
       "      <th></th>\n",
       "      <th>Unnamed: 0</th>\n",
       "      <th>Prescriptions</th>\n",
       "      <th>prescription_count</th>\n",
       "    </tr>\n",
       "  </thead>\n",
       "  <tbody>\n",
       "    <tr>\n",
       "      <th>0</th>\n",
       "      <td>5</td>\n",
       "      <td>AMLODIPINE, LOSARTAN, SIMVASTATIN</td>\n",
       "      <td>3.0</td>\n",
       "    </tr>\n",
       "    <tr>\n",
       "      <th>1</th>\n",
       "      <td>6</td>\n",
       "      <td>AMLODIPINE, NAPROXEN, SERTRALINE, TAMSULOSIN</td>\n",
       "      <td>4.0</td>\n",
       "    </tr>\n",
       "    <tr>\n",
       "      <th>2</th>\n",
       "      <td>47</td>\n",
       "      <td>INDAPAMIDE, LEVOTHYROXINE, POTASSIUM CHLORIDE,...</td>\n",
       "      <td>4.0</td>\n",
       "    </tr>\n",
       "    <tr>\n",
       "      <th>3</th>\n",
       "      <td>51</td>\n",
       "      <td>DIGOXIN, LOSARTAN, METFORMIN, METOPROLOL, PRAV...</td>\n",
       "      <td>7.0</td>\n",
       "    </tr>\n",
       "    <tr>\n",
       "      <th>4</th>\n",
       "      <td>56</td>\n",
       "      <td>AMLODIPINE, ASPIRIN, ATORVASTATIN, GLIPIZIDE, ...</td>\n",
       "      <td>10.0</td>\n",
       "    </tr>\n",
       "  </tbody>\n",
       "</table>\n",
       "</div>"
      ],
      "text/plain": [
       "   Unnamed: 0                                      Prescriptions  \\\n",
       "0           5                  AMLODIPINE, LOSARTAN, SIMVASTATIN   \n",
       "1           6       AMLODIPINE, NAPROXEN, SERTRALINE, TAMSULOSIN   \n",
       "2          47  INDAPAMIDE, LEVOTHYROXINE, POTASSIUM CHLORIDE,...   \n",
       "3          51  DIGOXIN, LOSARTAN, METFORMIN, METOPROLOL, PRAV...   \n",
       "4          56  AMLODIPINE, ASPIRIN, ATORVASTATIN, GLIPIZIDE, ...   \n",
       "\n",
       "   prescription_count  \n",
       "0                 3.0  \n",
       "1                 4.0  \n",
       "2                 4.0  \n",
       "3                 7.0  \n",
       "4                10.0  "
      ]
     },
     "execution_count": 16,
     "metadata": {},
     "output_type": "execute_result"
    }
   ],
   "source": [
    "df"
   ]
  },
  {
   "cell_type": "code",
   "execution_count": 14,
   "metadata": {},
   "outputs": [
    {
     "data": {
      "text/html": [
       "<div>\n",
       "<style scoped>\n",
       "    .dataframe tbody tr th:only-of-type {\n",
       "        vertical-align: middle;\n",
       "    }\n",
       "\n",
       "    .dataframe tbody tr th {\n",
       "        vertical-align: top;\n",
       "    }\n",
       "\n",
       "    .dataframe thead th {\n",
       "        text-align: right;\n",
       "    }\n",
       "</style>\n",
       "<table border=\"1\" class=\"dataframe\">\n",
       "  <thead>\n",
       "    <tr style=\"text-align: right;\">\n",
       "      <th></th>\n",
       "      <th>Unnamed: 0</th>\n",
       "      <th>Prescriptions</th>\n",
       "      <th>prescription_count</th>\n",
       "      <th>prescription_list</th>\n",
       "    </tr>\n",
       "  </thead>\n",
       "  <tbody>\n",
       "    <tr>\n",
       "      <th>0</th>\n",
       "      <td>5</td>\n",
       "      <td>AMLODIPINE, LOSARTAN, SIMVASTATIN</td>\n",
       "      <td>3.0</td>\n",
       "      <td>[AMLODIPINE, LOSARTAN, SIMVASTATIN]</td>\n",
       "    </tr>\n",
       "    <tr>\n",
       "      <th>1</th>\n",
       "      <td>6</td>\n",
       "      <td>AMLODIPINE, NAPROXEN, SERTRALINE, TAMSULOSIN</td>\n",
       "      <td>4.0</td>\n",
       "      <td>[AMLODIPINE, NAPROXEN, SERTRALINE, TAMSULOSIN]</td>\n",
       "    </tr>\n",
       "    <tr>\n",
       "      <th>2</th>\n",
       "      <td>47</td>\n",
       "      <td>INDAPAMIDE, LEVOTHYROXINE, POTASSIUM CHLORIDE,...</td>\n",
       "      <td>4.0</td>\n",
       "      <td>[INDAPAMIDE, LEVOTHYROXINE, POTASSIUM CHLORIDE...</td>\n",
       "    </tr>\n",
       "    <tr>\n",
       "      <th>3</th>\n",
       "      <td>51</td>\n",
       "      <td>DIGOXIN, LOSARTAN, METFORMIN, METOPROLOL, PRAV...</td>\n",
       "      <td>7.0</td>\n",
       "      <td>[DIGOXIN, LOSARTAN, METFORMIN, METOPROLOL, PRA...</td>\n",
       "    </tr>\n",
       "    <tr>\n",
       "      <th>4</th>\n",
       "      <td>56</td>\n",
       "      <td>AMLODIPINE, ASPIRIN, ATORVASTATIN, GLIPIZIDE, ...</td>\n",
       "      <td>10.0</td>\n",
       "      <td>[AMLODIPINE, ASPIRIN, ATORVASTATIN, GLIPIZIDE,...</td>\n",
       "    </tr>\n",
       "  </tbody>\n",
       "</table>\n",
       "</div>"
      ],
      "text/plain": [
       "   Unnamed: 0                                      Prescriptions  \\\n",
       "0           5                  AMLODIPINE, LOSARTAN, SIMVASTATIN   \n",
       "1           6       AMLODIPINE, NAPROXEN, SERTRALINE, TAMSULOSIN   \n",
       "2          47  INDAPAMIDE, LEVOTHYROXINE, POTASSIUM CHLORIDE,...   \n",
       "3          51  DIGOXIN, LOSARTAN, METFORMIN, METOPROLOL, PRAV...   \n",
       "4          56  AMLODIPINE, ASPIRIN, ATORVASTATIN, GLIPIZIDE, ...   \n",
       "\n",
       "   prescription_count                                  prescription_list  \n",
       "0                 3.0                [AMLODIPINE, LOSARTAN, SIMVASTATIN]  \n",
       "1                 4.0     [AMLODIPINE, NAPROXEN, SERTRALINE, TAMSULOSIN]  \n",
       "2                 4.0  [INDAPAMIDE, LEVOTHYROXINE, POTASSIUM CHLORIDE...  \n",
       "3                 7.0  [DIGOXIN, LOSARTAN, METFORMIN, METOPROLOL, PRA...  \n",
       "4                10.0  [AMLODIPINE, ASPIRIN, ATORVASTATIN, GLIPIZIDE,...  "
      ]
     },
     "execution_count": 14,
     "metadata": {},
     "output_type": "execute_result"
    }
   ],
   "source": [
    "def prescription_list(row): \n",
    "    \"\"\" This function returns a list of all the prescription       medication an individual is prescribed\"\"\"\n",
    "    if row['Prescriptions'] is np.nan: \n",
    "        return(np.nan)\n",
    "    else: \n",
    "        drugs = row['Prescriptions'].split(\", \")\n",
    "        \n",
    "        drugs_list = []\n",
    "        \n",
    "        for i in drugs: \n",
    "                drugs_list.append(i)      \n",
    "           \n",
    "        return(drugs_list)        \n",
    "    \n",
    "df['prescription_list'] = df.apply(prescription_list, axis=1)\n",
    "#display\n",
    "df.head()"
   ]
  },
  {
   "cell_type": "code",
   "execution_count": 3,
   "metadata": {},
   "outputs": [],
   "source": [
    "import requests\n",
    "from bs4 import BeautifulSoup\n",
    "\n",
    "URL = \"https://www.nhs.uk/medicines/metformin/\"\n",
    "page = requests.get(URL)\n",
    "\n",
    "soup = BeautifulSoup(page.content, \"html.parser\")"
   ]
  },
  {
   "cell_type": "code",
   "execution_count": 5,
   "metadata": {},
   "outputs": [],
   "source": [
    "results = soup.find(id=\"about-metformin\")"
   ]
  },
  {
   "cell_type": "code",
   "execution_count": 7,
   "metadata": {},
   "outputs": [
    {
     "data": {
      "text/plain": [
       "\"\\n1. About metformin\\nMetformin is a medicine used to treat type 2 diabetes, and to help prevent type 2 diabetes if you're at high risk of developing it.Metformin is used when treating polycystic ovary syndrome (PCOS), although it's not officially approved for PCOS.Type 2 diabetes is an illness where the body does not make enough insulin, or the insulin that it makes does not work properly. This can cause high blood sugar levels (hyperglycaemia).PCOS is a condition that affects how the ovaries work.Metformin lowers your blood sugar levels by improving the way your body handles insulin.It's usually prescribed for diabetes when diet and exercise alone have not been enough to control your blood sugar levels.For women with PCOS, metformin lowers insulin and blood sugar levels, and can also stimulate ovulation.Metformin is available on prescription as tablets and as a liquid that you drink.\\n\""
      ]
     },
     "execution_count": 7,
     "metadata": {},
     "output_type": "execute_result"
    }
   ],
   "source": [
    "results.text"
   ]
  }
 ],
 "metadata": {
  "kernelspec": {
   "display_name": "Python 3",
   "language": "python",
   "name": "python3"
  },
  "language_info": {
   "codemirror_mode": {
    "name": "ipython",
    "version": 3
   },
   "file_extension": ".py",
   "mimetype": "text/x-python",
   "name": "python",
   "nbconvert_exporter": "python",
   "pygments_lexer": "ipython3",
   "version": "3.8.10"
  }
 },
 "nbformat": 4,
 "nbformat_minor": 4
}

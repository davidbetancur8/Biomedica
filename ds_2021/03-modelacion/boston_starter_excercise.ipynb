{
  "nbformat": 4,
  "nbformat_minor": 0,
  "metadata": {
    "colab": {
      "name": "boston_starter_excercise.ipynb",
      "provenance": [],
      "collapsed_sections": []
    },
    "kernelspec": {
      "name": "python3",
      "display_name": "Python 3"
    },
    "language_info": {
      "name": "python"
    }
  },
  "cells": [
    {
      "cell_type": "markdown",
      "metadata": {
        "id": "VkxGEgXKjicV"
      },
      "source": [
        "# Ejercicio de Boston\n",
        "Implementar los pasos propuestos:"
      ]
    },
    {
      "cell_type": "code",
      "metadata": {
        "id": "nSn1rQND56lK"
      },
      "source": [
        "# Importar pandas"
      ],
      "execution_count": null,
      "outputs": []
    },
    {
      "cell_type": "code",
      "metadata": {
        "id": "NaRoFCwn9eSq"
      },
      "source": [
        "# Cargar el dataframe"
      ],
      "execution_count": 1,
      "outputs": []
    },
    {
      "cell_type": "code",
      "metadata": {
        "id": "49Uxf6MVDTK0"
      },
      "source": [
        "# Guardar en la variable num_cols una lista con las columnas numéricas\n",
        "num_cols = None"
      ],
      "execution_count": null,
      "outputs": []
    },
    {
      "cell_type": "code",
      "metadata": {
        "id": "v3IlwMtADUTj"
      },
      "source": [
        "# Guardar un datafrme solo con las columnas numéricas\n",
        "df = None"
      ],
      "execution_count": null,
      "outputs": []
    },
    {
      "cell_type": "code",
      "metadata": {
        "id": "piPuPddyDWgJ"
      },
      "source": [
        "# Quedarse con las columnas que tengan mas de 100 valores distintos\n",
        "# pista: df[col].value_counts().shape[0] < 100\n",
        "\n",
        "for col in df.columns:\n",
        "  pass"
      ],
      "execution_count": null,
      "outputs": []
    },
    {
      "cell_type": "code",
      "metadata": {
        "id": "v51i0PvKEyKG"
      },
      "source": [
        "# graficar cada una de las columnas restantes contra la variable SalePrice\n",
        "import matplotlib.pyplot as plt\n",
        "for col in df.columns:\n",
        "  pass"
      ],
      "execution_count": null,
      "outputs": []
    },
    {
      "cell_type": "code",
      "metadata": {
        "id": "C4gjfIuw9jPg"
      },
      "source": [
        "# Cargar la X e y escogiendo 2 variables que se viera que influyen en la variable SalePrice\n",
        "X = None\n",
        "y = None"
      ],
      "execution_count": null,
      "outputs": []
    },
    {
      "cell_type": "code",
      "metadata": {
        "id": "wzj1Rbcj9uOm"
      },
      "source": [
        "# Separar en X_train, X_test, y_train, y_test\n",
        "from sklearn.model_selection import train_test_split\n",
        "X_train, X_test, y_train, y_test = None"
      ],
      "execution_count": null,
      "outputs": []
    },
    {
      "cell_type": "code",
      "metadata": {
        "id": "vCi9ShW7GDC1"
      },
      "source": [
        "from sklearn.linear_model import Lasso, Ridge\n",
        "model = Ridge()"
      ],
      "execution_count": null,
      "outputs": []
    },
    {
      "cell_type": "code",
      "metadata": {
        "id": "2XgKui4wJNGx"
      },
      "source": [
        "# Entrenar el modelo y guardar predicciones de X_test en una lista llamada y_pred\n",
        "model\n",
        "y_pred = None"
      ],
      "execution_count": null,
      "outputs": []
    },
    {
      "cell_type": "code",
      "metadata": {
        "colab": {
          "base_uri": "https://localhost:8080/"
        },
        "id": "X8uS3DBSIsI2",
        "outputId": "f88d906a-2605-4e5a-9d9d-73dcd9429789"
      },
      "source": [
        "# Encontrar el error cuadratico medio de los logaritmos de y_test y y_pred\n",
        "from sklearn.metrics import mean_squared_error\n",
        "import numpy as np\n"
      ],
      "execution_count": null,
      "outputs": [
        {
          "output_type": "execute_result",
          "data": {
            "text/plain": [
              "0.23701117078596354"
            ]
          },
          "metadata": {},
          "execution_count": 24
        }
      ]
    }
  ]
}
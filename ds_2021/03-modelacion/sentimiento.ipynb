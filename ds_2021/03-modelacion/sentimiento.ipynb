{
  "nbformat": 4,
  "nbformat_minor": 0,
  "metadata": {
    "colab": {
      "name": "sentimiento.ipynb",
      "provenance": [],
      "collapsed_sections": []
    },
    "kernelspec": {
      "name": "python3",
      "display_name": "Python 3"
    },
    "language_info": {
      "name": "python"
    }
  },
  "cells": [
    {
      "cell_type": "code",
      "metadata": {
        "id": "Ws6nO16w2Cvg"
      },
      "source": [
        "!pip install pysentimiento"
      ],
      "execution_count": null,
      "outputs": []
    },
    {
      "cell_type": "code",
      "metadata": {
        "id": "p3FdnDzk2QhK"
      },
      "source": [
        "from pysentimiento import EmotionAnalyzer\n",
        "import pandas as pd"
      ],
      "execution_count": 8,
      "outputs": []
    },
    {
      "cell_type": "code",
      "metadata": {
        "colab": {
          "base_uri": "https://localhost:8080/",
          "height": 111
        },
        "id": "6LDnU-J03D9Z",
        "outputId": "1f54b259-568e-4b27-caa0-444b68bbd82b"
      },
      "source": [
        "df = pd.read_csv(\"sents.csv\")\n",
        "df"
      ],
      "execution_count": 9,
      "outputs": [
        {
          "output_type": "execute_result",
          "data": {
            "text/html": [
              "<div>\n",
              "<style scoped>\n",
              "    .dataframe tbody tr th:only-of-type {\n",
              "        vertical-align: middle;\n",
              "    }\n",
              "\n",
              "    .dataframe tbody tr th {\n",
              "        vertical-align: top;\n",
              "    }\n",
              "\n",
              "    .dataframe thead th {\n",
              "        text-align: right;\n",
              "    }\n",
              "</style>\n",
              "<table border=\"1\" class=\"dataframe\">\n",
              "  <thead>\n",
              "    <tr style=\"text-align: right;\">\n",
              "      <th></th>\n",
              "      <th>texto_paciente</th>\n",
              "      <th>paciente</th>\n",
              "    </tr>\n",
              "  </thead>\n",
              "  <tbody>\n",
              "    <tr>\n",
              "      <th>0</th>\n",
              "      <td>hola estoy contento porque me voy a casar con ...</td>\n",
              "      <td>daniel</td>\n",
              "    </tr>\n",
              "    <tr>\n",
              "      <th>1</th>\n",
              "      <td>yo estoy triste y asustado porque tengo una en...</td>\n",
              "      <td>cata</td>\n",
              "    </tr>\n",
              "  </tbody>\n",
              "</table>\n",
              "</div>"
            ],
            "text/plain": [
              "                                      texto_paciente paciente\n",
              "0  hola estoy contento porque me voy a casar con ...   daniel\n",
              "1  yo estoy triste y asustado porque tengo una en...     cata"
            ]
          },
          "metadata": {},
          "execution_count": 9
        }
      ]
    },
    {
      "cell_type": "code",
      "metadata": {
        "id": "6aXlGPnQ3R4o"
      },
      "source": [
        "emotion_analyzer = EmotionAnalyzer(lang=\"es\")"
      ],
      "execution_count": null,
      "outputs": []
    },
    {
      "cell_type": "code",
      "metadata": {
        "id": "hWladOtD3JMs"
      },
      "source": [
        "df[\"emociones\"] = df[\"texto_paciente\"].apply(lambda x: emotion_analyzer.predict(x))"
      ],
      "execution_count": 10,
      "outputs": []
    },
    {
      "cell_type": "code",
      "metadata": {
        "colab": {
          "base_uri": "https://localhost:8080/"
        },
        "id": "oDSiha2W2l5P",
        "outputId": "ee092664-2906-41a3-f3a3-8225ef0857b5"
      },
      "source": [
        "df[\"emociones\"].values"
      ],
      "execution_count": 13,
      "outputs": [
        {
          "output_type": "execute_result",
          "data": {
            "text/plain": [
              "array([EmotionOutput(output=joy, probas={joy: 0.989, others: 0.006, surprise: 0.003, fear: 0.001, disgust: 0.001, sadness: 0.000, anger: 0.000}),\n",
              "       EmotionOutput(output=sadness, probas={sadness: 0.972, fear: 0.022, others: 0.003, joy: 0.001, anger: 0.001, surprise: 0.001, disgust: 0.001})],\n",
              "      dtype=object)"
            ]
          },
          "metadata": {},
          "execution_count": 13
        }
      ]
    }
  ]
}
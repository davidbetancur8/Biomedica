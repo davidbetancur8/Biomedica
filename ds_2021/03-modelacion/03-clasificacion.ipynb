{
  "nbformat": 4,
  "nbformat_minor": 0,
  "metadata": {
    "colab": {
      "name": "classification.ipynb",
      "provenance": [],
      "collapsed_sections": []
    },
    "kernelspec": {
      "name": "python3",
      "display_name": "Python 3"
    },
    "language_info": {
      "name": "python"
    }
  },
  "cells": [
    {
      "cell_type": "markdown",
      "metadata": {
        "id": "czHH3gzMoYad"
      },
      "source": [
        "<img src=\"https://i.ytimg.com/vi/ygrYRHPhlCQ/mqdefault.jpg\">\n",
        "\n",
        "https://scikit-learn.org/stable/user_guide.html\n",
        "\n",
        "https://stackabuse.com/overview-of-classification-methods-in-python-with-scikit-learn/\n",
        "\n",
        "<img src=\"https://scikit-learn.org/stable/_images/sphx_glr_plot_classifier_comparison_001.png\">\n",
        "\n",
        "https://scikit-learn.org/stable/tutorial/machine_learning_map/index.html"
      ]
    },
    {
      "cell_type": "markdown",
      "metadata": {
        "id": "jjflFC7zp2nR"
      },
      "source": [
        "# KNN\n",
        "\n",
        "<img src=\"https://s3.amazonaws.com/stackabuse/media/overview-classification-methods-python-scikit-learn-4.png\" width=\"400\">\n",
        "\n",
        "https://scikit-learn.org/stable/modules/generated/sklearn.neighbors.KNeighborsClassifier.html\n"
      ]
    },
    {
      "cell_type": "code",
      "metadata": {
        "id": "zaWuC3MiqiTj"
      },
      "source": [
        "from sklearn.neighbors import KNeighborsClassifier"
      ],
      "execution_count": null,
      "outputs": []
    },
    {
      "cell_type": "code",
      "metadata": {
        "id": "9QnMT8PeoV17"
      },
      "source": [
        "X = [[0], [1], [2], [3]]\n",
        "y = [0, 0, 1, 1]"
      ],
      "execution_count": null,
      "outputs": []
    },
    {
      "cell_type": "code",
      "metadata": {
        "colab": {
          "base_uri": "https://localhost:8080/",
          "height": 248
        },
        "id": "9la3jYxKql9P",
        "outputId": "423b6c2c-9af8-47da-8524-0d81c6e55043"
      },
      "source": [
        "import matplotlib.pyplot as plt\n",
        "plt.plot(X[:2], [0,0], \"k*\", ms=30)\n",
        "plt.plot(X[2:], [0,0], \"g*\", ms=30)\n",
        "plt.axis('off')\n",
        "plt.show()"
      ],
      "execution_count": null,
      "outputs": [
        {
          "output_type": "display_data",
          "data": {
            "image/png": "[encoded data removed]",
            "text/plain": [
              "<Figure size 432x288 with 1 Axes>"
            ]
          },
          "metadata": {
            "needs_background": "light"
          }
        }
      ]
    },
    {
      "cell_type": "code",
      "metadata": {
        "colab": {
          "base_uri": "https://localhost:8080/"
        },
        "id": "d3Envkx1qkaa",
        "outputId": "a3735684-7123-4962-81cc-c76eb08a3d2c"
      },
      "source": [
        "neigh = KNeighborsClassifier(n_neighbors=3)\n",
        "neigh.fit(X, y)"
      ],
      "execution_count": null,
      "outputs": [
        {
          "output_type": "execute_result",
          "data": {
            "text/plain": [
              "KNeighborsClassifier(algorithm='auto', leaf_size=30, metric='minkowski',\n",
              "                     metric_params=None, n_jobs=None, n_neighbors=3, p=2,\n",
              "                     weights='uniform')"
            ]
          },
          "metadata": {},
          "execution_count": 27
        }
      ]
    },
    {
      "cell_type": "markdown",
      "metadata": {
        "id": "5TSr4dk0sRRm"
      },
      "source": [
        "Queremos predecir y cuando X = 1.1"
      ]
    },
    {
      "cell_type": "code",
      "metadata": {
        "colab": {
          "base_uri": "https://localhost:8080/",
          "height": 248
        },
        "id": "K7lrKwBRr_WK",
        "outputId": "13bb4a43-081d-41ca-cc8f-5e139c696515"
      },
      "source": [
        "plt.plot(X[:2], [0,0], \"k*\", ms=30)\n",
        "plt.plot(X[2:], [0,0], \"g*\", ms=30)\n",
        "plt.plot(1.1, 0, \"r*\", ms=30)\n",
        "plt.axis('off')\n",
        "plt.show()"
      ],
      "execution_count": null,
      "outputs": [
        {
          "output_type": "display_data",
          "data": {
            "image/png": "[encoded data removed]",
            "text/plain": [
              "<Figure size 432x288 with 1 Axes>"
            ]
          },
          "metadata": {
            "needs_background": "light"
          }
        }
      ]
    },
    {
      "cell_type": "code",
      "metadata": {
        "colab": {
          "base_uri": "https://localhost:8080/"
        },
        "id": "ZGX-cfZFq0il",
        "outputId": "928f260c-2d9a-4a90-b47e-1fc5d9b5bb26"
      },
      "source": [
        "print(neigh.predict([[1.1]]))"
      ],
      "execution_count": null,
      "outputs": [
        {
          "output_type": "stream",
          "name": "stdout",
          "text": [
            "[0]\n"
          ]
        }
      ]
    },
    {
      "cell_type": "markdown",
      "metadata": {
        "id": "Lm0wZ8Q1u0Ow"
      },
      "source": [
        "# Decission trees\n",
        "\n",
        "https://scikit-learn.org/stable/modules/generated/sklearn.tree.DecisionTreeClassifier.html\n",
        "\n",
        "<img src=\"https://lh4.googleusercontent.com/v9UQUwaQTAXVH90b-Ugyw2_61_uErfYvTBtG-RNRNB_eHUFq9AmAN_2IOdfOETnbXImnQVN-wPC7_YzDgf7urCeyhyx5UZmuSwV8BVsV8VnHxl1KtgpuxDifJ4pLE23ooYXLlnc\">\n",
        "\n",
        "<img src=\"https://www.mssqltips.com/tipimages2/6613_t-sql-decision-tree-algorithm.001.png\">"
      ]
    },
    {
      "cell_type": "code",
      "metadata": {
        "id": "jttp6Xu-wf6z"
      },
      "source": [
        "X = [[0, 0], [0.1, 0.1], [1, 1], [1.1, 1.1], [1, 0], [1.1, 0.1], [0, 1], [0.1, 1.1]]\n",
        "y = [0, 0, 0,0,1,1,1,1]"
      ],
      "execution_count": null,
      "outputs": []
    },
    {
      "cell_type": "code",
      "metadata": {
        "id": "581HbXN6w5qC"
      },
      "source": [
        "xs = [a[0] for a in X]\n",
        "ys = [a[1] for a in X]"
      ],
      "execution_count": null,
      "outputs": []
    },
    {
      "cell_type": "code",
      "metadata": {
        "colab": {
          "base_uri": "https://localhost:8080/",
          "height": 265
        },
        "id": "vSaCyqeowxFd",
        "outputId": "a91e4039-df39-436b-979c-06067155a581"
      },
      "source": [
        "plt.plot(xs[4:], ys[4:], \"k*\", ms=30)\n",
        "plt.plot(xs[:4], ys[:4], \"g*\", ms=30)\n",
        "plt.show()"
      ],
      "execution_count": null,
      "outputs": [
        {
          "output_type": "display_data",
          "data": {
            "image/png": "[encoded data removed]",
            "text/plain": [
              "<Figure size 432x288 with 1 Axes>"
            ]
          },
          "metadata": {
            "needs_background": "light"
          }
        }
      ]
    },
    {
      "cell_type": "code",
      "metadata": {
        "colab": {
          "base_uri": "https://localhost:8080/"
        },
        "id": "zNTfiDizupBA",
        "outputId": "ed780514-310e-4b07-b296-751137e19e61"
      },
      "source": [
        "from sklearn.tree import DecisionTreeClassifier\n",
        "clf = DecisionTreeClassifier(random_state=0)\n",
        "clf.fit(X, y)"
      ],
      "execution_count": null,
      "outputs": [
        {
          "output_type": "execute_result",
          "data": {
            "text/plain": [
              "DecisionTreeClassifier(ccp_alpha=0.0, class_weight=None, criterion='gini',\n",
              "                       max_depth=None, max_features=None, max_leaf_nodes=None,\n",
              "                       min_impurity_decrease=0.0, min_impurity_split=None,\n",
              "                       min_samples_leaf=1, min_samples_split=2,\n",
              "                       min_weight_fraction_leaf=0.0, presort='deprecated',\n",
              "                       random_state=0, splitter='best')"
            ]
          },
          "metadata": {},
          "execution_count": 59
        }
      ]
    },
    {
      "cell_type": "code",
      "metadata": {
        "colab": {
          "base_uri": "https://localhost:8080/",
          "height": 279
        },
        "id": "Jm0WmTjbv1IU",
        "outputId": "2f2ad5ac-93b8-4d5c-cdac-7ca12777387b"
      },
      "source": [
        "plt.plot(xs[4:], ys[4:], \"k*\", ms=30)\n",
        "plt.plot(xs[:4], ys[:4], \"g*\", ms=30)\n",
        "plt.plot(1.2, 1.2, \"r*\", ms=30)\n",
        "plt.xlabel(\"feature 0\")\n",
        "plt.ylabel(\"feature 1\")\n",
        "plt.show()"
      ],
      "execution_count": null,
      "outputs": [
        {
          "output_type": "display_data",
          "data": {
            "image/png": "[encoded data removed]",
            "text/plain": [
              "<Figure size 432x288 with 1 Axes>"
            ]
          },
          "metadata": {
            "needs_background": "light"
          }
        }
      ]
    },
    {
      "cell_type": "code",
      "metadata": {
        "colab": {
          "base_uri": "https://localhost:8080/"
        },
        "id": "mWhyPgieywDQ",
        "outputId": "6ab65380-0464-40ab-d768-c39be1eec65f"
      },
      "source": [
        "clf.predict([[1.2, 1.2]])"
      ],
      "execution_count": null,
      "outputs": [
        {
          "output_type": "execute_result",
          "data": {
            "text/plain": [
              "array([0])"
            ]
          },
          "metadata": {},
          "execution_count": 61
        }
      ]
    },
    {
      "cell_type": "code",
      "metadata": {
        "colab": {
          "base_uri": "https://localhost:8080/"
        },
        "id": "gufIApLzzCll",
        "outputId": "680c71d9-023f-431e-f39b-f2cdb3fa7db2"
      },
      "source": [
        "from sklearn import tree\n",
        "text_representation = tree.export_text(clf)\n",
        "print(text_representation)"
      ],
      "execution_count": null,
      "outputs": [
        {
          "output_type": "stream",
          "name": "stdout",
          "text": [
            "|--- feature_1 <= 0.05\n",
            "|   |--- feature_0 <= 0.50\n",
            "|   |   |--- class: 0\n",
            "|   |--- feature_0 >  0.50\n",
            "|   |   |--- class: 1\n",
            "|--- feature_1 >  0.05\n",
            "|   |--- feature_0 <= 0.05\n",
            "|   |   |--- class: 1\n",
            "|   |--- feature_0 >  0.05\n",
            "|   |   |--- feature_0 <= 0.55\n",
            "|   |   |   |--- feature_1 <= 0.60\n",
            "|   |   |   |   |--- class: 0\n",
            "|   |   |   |--- feature_1 >  0.60\n",
            "|   |   |   |   |--- class: 1\n",
            "|   |   |--- feature_0 >  0.55\n",
            "|   |   |   |--- feature_1 <= 0.55\n",
            "|   |   |   |   |--- class: 1\n",
            "|   |   |   |--- feature_1 >  0.55\n",
            "|   |   |   |   |--- class: 0\n",
            "\n"
          ]
        }
      ]
    },
    {
      "cell_type": "code",
      "metadata": {
        "colab": {
          "base_uri": "https://localhost:8080/",
          "height": 279
        },
        "id": "zLUTTqI_zasw",
        "outputId": "fa438980-f68c-463a-d5b1-192c14a19944"
      },
      "source": [
        "plt.plot(xs[4:], ys[4:], \"k*\", ms=20)\n",
        "plt.plot(xs[:4], ys[:4], \"g*\", ms=20)\n",
        "plt.plot(1.2, 1.2, \"r*\", ms=20)\n",
        "plt.vlines(x=[0.05 ,0.5, 0.55], ymin=0, ymax=1.25, colors='purple', ls='--', lw=2, label='vline_multiple - full height')\n",
        "plt.hlines(y=[0.05 ,0.6, 0.55], xmin=0, xmax=1.25, colors='purple', ls='--', lw=2, label='vline_multiple - full height')\n",
        "\n",
        "plt.xlabel(\"feature 0\")\n",
        "plt.ylabel(\"feature 1\")\n",
        "plt.show()"
      ],
      "execution_count": null,
      "outputs": [
        {
          "output_type": "display_data",
          "data": {
            "image/png": "[encoded data removed]",
            "text/plain": [
              "<Figure size 432x288 with 1 Axes>"
            ]
          },
          "metadata": {
            "needs_background": "light"
          }
        }
      ]
    },
    {
      "cell_type": "markdown",
      "metadata": {
        "id": "CuG4XGMEF8ok"
      },
      "source": [
        "# Support Vector Machines\n",
        "\n",
        "<img src=\"https://s3.amazonaws.com/stackabuse/media/overview-classification-methods-python-scikit-learn-5.jpg\">"
      ]
    },
    {
      "cell_type": "code",
      "metadata": {
        "id": "EJJpdmQD1InS",
        "colab": {
          "base_uri": "https://localhost:8080/"
        },
        "outputId": "e62f00aa-700a-41bf-e154-fa5bf9cafecf"
      },
      "source": [
        "import numpy as np\n",
        "from sklearn.pipeline import make_pipeline\n",
        "from sklearn.preprocessing import StandardScaler\n",
        "X = np.array([[-1, -1], [-2, -1], [1, 1], [2, 1]])\n",
        "y = np.array([1, 1, 2, 2])\n",
        "from sklearn.svm import SVC\n",
        "clf = make_pipeline(StandardScaler(), SVC(gamma='auto'))\n",
        "clf.fit(X, y)"
      ],
      "execution_count": null,
      "outputs": [
        {
          "output_type": "execute_result",
          "data": {
            "text/plain": [
              "Pipeline(memory=None,\n",
              "         steps=[('standardscaler',\n",
              "                 StandardScaler(copy=True, with_mean=True, with_std=True)),\n",
              "                ('svc',\n",
              "                 SVC(C=1.0, break_ties=False, cache_size=200, class_weight=None,\n",
              "                     coef0=0.0, decision_function_shape='ovr', degree=3,\n",
              "                     gamma='auto', kernel='rbf', max_iter=-1, probability=False,\n",
              "                     random_state=None, shrinking=True, tol=0.001,\n",
              "                     verbose=False))],\n",
              "         verbose=False)"
            ]
          },
          "metadata": {},
          "execution_count": 1
        }
      ]
    },
    {
      "cell_type": "markdown",
      "metadata": {
        "id": "VPLc5AHkGoM8"
      },
      "source": [
        "# Métricas... ¿Cómo saber si mi modelo de clasificación lo está haciendo bien?"
      ]
    },
    {
      "cell_type": "markdown",
      "metadata": {
        "id": "K2i-S4H_G5Zn"
      },
      "source": [
        "## Accuracy"
      ]
    },
    {
      "cell_type": "code",
      "metadata": {
        "colab": {
          "base_uri": "https://localhost:8080/"
        },
        "id": "1cPIB7qCGbBp",
        "outputId": "0d3fa757-f995-4eb1-9747-b968d04b8644"
      },
      "source": [
        "from sklearn.metrics import accuracy_score\n",
        "y_pred = [0, 2, 1, 3]\n",
        "y_true = [0, 1, 2, 3]\n",
        "accuracy_score(y_true, y_pred)"
      ],
      "execution_count": null,
      "outputs": [
        {
          "output_type": "execute_result",
          "data": {
            "text/plain": [
              "0.5"
            ]
          },
          "metadata": {},
          "execution_count": 2
        }
      ]
    },
    {
      "cell_type": "markdown",
      "metadata": {
        "id": "oGqnKJu4G-hN"
      },
      "source": [
        "Pero... Que pasa con el desbalance de clases?"
      ]
    },
    {
      "cell_type": "code",
      "metadata": {
        "colab": {
          "base_uri": "https://localhost:8080/"
        },
        "id": "HCQVGdHCG7Ut",
        "outputId": "3eb400fa-ed97-4a3b-b051-5d22f61af4fe"
      },
      "source": [
        "y_true = [0, 0, 0, 0, 0, 0, 0, 0, 0, 1, 0, 1, 0, 0, 0, 0, 0, 0, 0, 0]\n",
        "y_pred = [0, 0, 0, 0, 0, 0, 0, 0, 0, 0, 0, 0, 0, 0, 0, 0, 0, 0, 0, 0]\n",
        "accuracy_score(y_true, y_pred)"
      ],
      "execution_count": null,
      "outputs": [
        {
          "output_type": "execute_result",
          "data": {
            "text/plain": [
              "0.9"
            ]
          },
          "metadata": {},
          "execution_count": 4
        }
      ]
    },
    {
      "cell_type": "markdown",
      "metadata": {
        "id": "4USm971fIG4l"
      },
      "source": [
        "## Matriz de confusión"
      ]
    },
    {
      "cell_type": "code",
      "metadata": {
        "colab": {
          "base_uri": "https://localhost:8080/"
        },
        "id": "XXE5TjlMIt8n",
        "outputId": "53bacb52-81b8-4f01-9912-805816d16262"
      },
      "source": [
        "from sklearn.metrics import confusion_matrix\n",
        "cm = confusion_matrix(y_true, y_pred)\n",
        "cm"
      ],
      "execution_count": null,
      "outputs": [
        {
          "output_type": "execute_result",
          "data": {
            "text/plain": [
              "array([[18,  0],\n",
              "       [ 2,  0]])"
            ]
          },
          "metadata": {},
          "execution_count": 7
        }
      ]
    },
    {
      "cell_type": "code",
      "metadata": {
        "colab": {
          "base_uri": "https://localhost:8080/",
          "height": 300
        },
        "id": "Rkp0FHe9HUcY",
        "outputId": "76b9f1f6-ee6b-4132-dee7-2eede7ee1752"
      },
      "source": [
        "from sklearn.metrics import ConfusionMatrixDisplay, confusion_matrix\n",
        "\n",
        "disp = ConfusionMatrixDisplay(confusion_matrix=cm, display_labels=[\"class 0\", \"class 1\"])\n",
        "disp.plot()"
      ],
      "execution_count": null,
      "outputs": [
        {
          "output_type": "execute_result",
          "data": {
            "text/plain": [
              "<sklearn.metrics._plot.confusion_matrix.ConfusionMatrixDisplay at 0x7fe6d2e53b10>"
            ]
          },
          "metadata": {},
          "execution_count": 11
        },
        {
          "output_type": "display_data",
          "data": {
            "image/png": "[encoded data removed]",
            "text/plain": [
              "<Figure size 432x288 with 2 Axes>"
            ]
          },
          "metadata": {
            "needs_background": "light"
          }
        }
      ]
    },
    {
      "cell_type": "markdown",
      "metadata": {
        "id": "eBLpH2OyKWLl"
      },
      "source": [
        "# Curva ROC (Receiver Operating Cahacteristic)"
      ]
    },
    {
      "cell_type": "code",
      "metadata": {
        "id": "wi7THOptI3lO"
      },
      "source": [
        "y_probs = [0.1, 0.55, 0.9, 0.7, 0.2, 0.8]\n",
        "y_true = [0, 0, 1, 1, 0, 1]"
      ],
      "execution_count": null,
      "outputs": []
    },
    {
      "cell_type": "code",
      "metadata": {
        "colab": {
          "base_uri": "https://localhost:8080/"
        },
        "id": "tEJrsaACK6pV",
        "outputId": "10b199ed-9e81-45d8-f1ce-98f133503651"
      },
      "source": [
        "umbral = 0.5 # que pasa si lo cambiamos por 0.6?\n",
        "y_pred = [0 if y <= umbral else 1 for y in y_probs]\n",
        "accuracy_score(y_true, y_pred)"
      ],
      "execution_count": null,
      "outputs": [
        {
          "output_type": "execute_result",
          "data": {
            "text/plain": [
              "0.8333333333333334"
            ]
          },
          "metadata": {},
          "execution_count": 19
        }
      ]
    },
    {
      "cell_type": "code",
      "metadata": {
        "colab": {
          "base_uri": "https://localhost:8080/",
          "height": 321
        },
        "id": "4Ohw11qjLrVg",
        "outputId": "26d143bf-f8ac-41e7-e7a8-c38275ab9bb4"
      },
      "source": [
        "from IPython.display import YouTubeVideo\n",
        "YouTubeVideo('4jRBRDbJemM')"
      ],
      "execution_count": null,
      "outputs": [
        {
          "output_type": "execute_result",
          "data": {
            "text/html": [
              "\n",
              "        <iframe\n",
              "            width=\"400\"\n",
              "            height=\"300\"\n",
              "            src=\"https://www.youtube.com/embed/4jRBRDbJemM\"\n",
              "            frameborder=\"0\"\n",
              "            allowfullscreen\n",
              "        ></iframe>\n",
              "        "
            ],
            "text/plain": [
              "<IPython.lib.display.YouTubeVideo at 0x7fe6d2d5d210>"
            ],
            "image/jpeg": "[encoded data removed]"
          },
          "metadata": {},
          "execution_count": 21
        }
      ]
    },
    {
      "cell_type": "markdown",
      "metadata": {
        "id": "A3NkUbqvPeWN"
      },
      "source": [
        "<img src=\"https://scikit-learn.org/stable/_images/sphx_glr_plot_roc_001.png\">"
      ]
    },
    {
      "cell_type": "markdown",
      "metadata": {
        "id": "XWj364olP1uq"
      },
      "source": [
        "# Ahora si... vamos a competir!\n",
        "\n",
        "https://www.kaggle.com/c/titanic/overview/description\n",
        "\n",
        "\n",
        "<img src=\"https://images-na.ssl-images-amazon.com/images/I/91REw5Xbp-L.jpg\">"
      ]
    },
    {
      "cell_type": "code",
      "metadata": {
        "id": "17PCdp6GNXJi"
      },
      "source": [
        ""
      ],
      "execution_count": null,
      "outputs": []
    }
  ]
}